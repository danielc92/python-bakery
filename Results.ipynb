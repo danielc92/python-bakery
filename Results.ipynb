{
 "cells": [
  {
   "cell_type": "markdown",
   "metadata": {},
   "source": [
    "# Task\n",
    "Given a customer order you are required to determine the cost and pack breakdown for each product.\n",
    "To save on shipping space each order should contain the minimal number of packs."
   ]
  },
  {
   "cell_type": "markdown",
   "metadata": {},
   "source": [
    "# The Data\n",
    "Essentially the table of data is split into three concepts which can be abstracted out. I will be using `pandas` to manipulate and store the data. The concepts are;\n",
    "\n",
    "- Products\n",
    "- Packs\n",
    "- Orders\n",
    "\n",
    "I will not be modelling for Orders, as it would be overkill for this example.\n",
    "\n",
    "The data should be denormalized and indexed in production in order to increase speed, storage efficiency and maintainability. Ideally, we would want to store this data in a relational database using a many to many relationship."
   ]
  },
  {
   "cell_type": "code",
   "execution_count": 1,
   "metadata": {
    "ExecuteTime": {
     "end_time": "2019-06-12T00:08:28.983882Z",
     "start_time": "2019-06-12T00:08:28.665410Z"
    }
   },
   "outputs": [],
   "source": [
    "import pandas"
   ]
  },
  {
   "cell_type": "markdown",
   "metadata": {},
   "source": [
    "###  Create dataframes"
   ]
  },
  {
   "cell_type": "code",
   "execution_count": 2,
   "metadata": {
    "ExecuteTime": {
     "end_time": "2019-06-12T00:08:28.993795Z",
     "start_time": "2019-06-12T00:08:28.987458Z"
    }
   },
   "outputs": [],
   "source": [
    "product_data = pandas.DataFrame({\"product_row_id\":[0, 1, 2],\n",
    "                                 \"product_name\":[\"Vegemite Scroll\", \"Blueberry Muffin\", \"Croissant\"], \n",
    "                                 \"product_code\":[\"VS5\", \"MB11\", \"CF\"]})\n",
    "\n",
    "packs_data = pandas.DataFrame({\"pack_row_id\": [0, 1, 2, 3, 4, 5, 6, 7],\n",
    "                               \"product_code\":[\"VS5\",\"VS5\",\"MB11\", \"MB11\", \"MB11\", \"CF\", \"CF\", \"CF\"],\n",
    "                               \"per_pack_quantity\": [3, 5, 2, 5, 8, 3, 5, 9],\n",
    "                               \"pack_price\": [6.99, 8.99, 9.95, 16.95, 24.95, 5.95, 9.95, 16.99]})"
   ]
  },
  {
   "cell_type": "markdown",
   "metadata": {},
   "source": [
    "### Preview dataframes"
   ]
  },
  {
   "cell_type": "code",
   "execution_count": 3,
   "metadata": {
    "ExecuteTime": {
     "end_time": "2019-06-12T00:08:29.014839Z",
     "start_time": "2019-06-12T00:08:28.995895Z"
    }
   },
   "outputs": [
    {
     "data": {
      "text/html": [
       "<div>\n",
       "<style scoped>\n",
       "    .dataframe tbody tr th:only-of-type {\n",
       "        vertical-align: middle;\n",
       "    }\n",
       "\n",
       "    .dataframe tbody tr th {\n",
       "        vertical-align: top;\n",
       "    }\n",
       "\n",
       "    .dataframe thead th {\n",
       "        text-align: right;\n",
       "    }\n",
       "</style>\n",
       "<table border=\"1\" class=\"dataframe\">\n",
       "  <thead>\n",
       "    <tr style=\"text-align: right;\">\n",
       "      <th></th>\n",
       "      <th>product_row_id</th>\n",
       "      <th>product_name</th>\n",
       "      <th>product_code</th>\n",
       "    </tr>\n",
       "  </thead>\n",
       "  <tbody>\n",
       "    <tr>\n",
       "      <th>0</th>\n",
       "      <td>0</td>\n",
       "      <td>Vegemite Scroll</td>\n",
       "      <td>VS5</td>\n",
       "    </tr>\n",
       "    <tr>\n",
       "      <th>1</th>\n",
       "      <td>1</td>\n",
       "      <td>Blueberry Muffin</td>\n",
       "      <td>MB11</td>\n",
       "    </tr>\n",
       "    <tr>\n",
       "      <th>2</th>\n",
       "      <td>2</td>\n",
       "      <td>Croissant</td>\n",
       "      <td>CF</td>\n",
       "    </tr>\n",
       "  </tbody>\n",
       "</table>\n",
       "</div>"
      ],
      "text/plain": [
       "   product_row_id      product_name product_code\n",
       "0               0   Vegemite Scroll          VS5\n",
       "1               1  Blueberry Muffin         MB11\n",
       "2               2         Croissant           CF"
      ]
     },
     "execution_count": 3,
     "metadata": {},
     "output_type": "execute_result"
    }
   ],
   "source": [
    "product_data"
   ]
  },
  {
   "cell_type": "code",
   "execution_count": 4,
   "metadata": {
    "ExecuteTime": {
     "end_time": "2019-06-12T00:08:29.026720Z",
     "start_time": "2019-06-12T00:08:29.017274Z"
    }
   },
   "outputs": [
    {
     "data": {
      "text/html": [
       "<div>\n",
       "<style scoped>\n",
       "    .dataframe tbody tr th:only-of-type {\n",
       "        vertical-align: middle;\n",
       "    }\n",
       "\n",
       "    .dataframe tbody tr th {\n",
       "        vertical-align: top;\n",
       "    }\n",
       "\n",
       "    .dataframe thead th {\n",
       "        text-align: right;\n",
       "    }\n",
       "</style>\n",
       "<table border=\"1\" class=\"dataframe\">\n",
       "  <thead>\n",
       "    <tr style=\"text-align: right;\">\n",
       "      <th></th>\n",
       "      <th>pack_row_id</th>\n",
       "      <th>product_code</th>\n",
       "      <th>per_pack_quantity</th>\n",
       "      <th>pack_price</th>\n",
       "    </tr>\n",
       "  </thead>\n",
       "  <tbody>\n",
       "    <tr>\n",
       "      <th>0</th>\n",
       "      <td>0</td>\n",
       "      <td>VS5</td>\n",
       "      <td>3</td>\n",
       "      <td>6.99</td>\n",
       "    </tr>\n",
       "    <tr>\n",
       "      <th>1</th>\n",
       "      <td>1</td>\n",
       "      <td>VS5</td>\n",
       "      <td>5</td>\n",
       "      <td>8.99</td>\n",
       "    </tr>\n",
       "    <tr>\n",
       "      <th>2</th>\n",
       "      <td>2</td>\n",
       "      <td>MB11</td>\n",
       "      <td>2</td>\n",
       "      <td>9.95</td>\n",
       "    </tr>\n",
       "    <tr>\n",
       "      <th>3</th>\n",
       "      <td>3</td>\n",
       "      <td>MB11</td>\n",
       "      <td>5</td>\n",
       "      <td>16.95</td>\n",
       "    </tr>\n",
       "    <tr>\n",
       "      <th>4</th>\n",
       "      <td>4</td>\n",
       "      <td>MB11</td>\n",
       "      <td>8</td>\n",
       "      <td>24.95</td>\n",
       "    </tr>\n",
       "    <tr>\n",
       "      <th>5</th>\n",
       "      <td>5</td>\n",
       "      <td>CF</td>\n",
       "      <td>3</td>\n",
       "      <td>5.95</td>\n",
       "    </tr>\n",
       "    <tr>\n",
       "      <th>6</th>\n",
       "      <td>6</td>\n",
       "      <td>CF</td>\n",
       "      <td>5</td>\n",
       "      <td>9.95</td>\n",
       "    </tr>\n",
       "    <tr>\n",
       "      <th>7</th>\n",
       "      <td>7</td>\n",
       "      <td>CF</td>\n",
       "      <td>9</td>\n",
       "      <td>16.99</td>\n",
       "    </tr>\n",
       "  </tbody>\n",
       "</table>\n",
       "</div>"
      ],
      "text/plain": [
       "   pack_row_id product_code  per_pack_quantity  pack_price\n",
       "0            0          VS5                  3        6.99\n",
       "1            1          VS5                  5        8.99\n",
       "2            2         MB11                  2        9.95\n",
       "3            3         MB11                  5       16.95\n",
       "4            4         MB11                  8       24.95\n",
       "5            5           CF                  3        5.95\n",
       "6            6           CF                  5        9.95\n",
       "7            7           CF                  9       16.99"
      ]
     },
     "execution_count": 4,
     "metadata": {},
     "output_type": "execute_result"
    }
   ],
   "source": [
    "packs_data"
   ]
  },
  {
   "cell_type": "code",
   "execution_count": 5,
   "metadata": {
    "ExecuteTime": {
     "end_time": "2019-06-12T00:08:29.037596Z",
     "start_time": "2019-06-12T00:08:29.028500Z"
    }
   },
   "outputs": [],
   "source": [
    "normalized_data = pandas.merge(left=packs_data, right=product_data, on='product_code', how='left')"
   ]
  },
  {
   "cell_type": "code",
   "execution_count": 6,
   "metadata": {
    "ExecuteTime": {
     "end_time": "2019-06-12T00:08:29.052349Z",
     "start_time": "2019-06-12T00:08:29.039998Z"
    }
   },
   "outputs": [
    {
     "data": {
      "text/html": [
       "<div>\n",
       "<style scoped>\n",
       "    .dataframe tbody tr th:only-of-type {\n",
       "        vertical-align: middle;\n",
       "    }\n",
       "\n",
       "    .dataframe tbody tr th {\n",
       "        vertical-align: top;\n",
       "    }\n",
       "\n",
       "    .dataframe thead th {\n",
       "        text-align: right;\n",
       "    }\n",
       "</style>\n",
       "<table border=\"1\" class=\"dataframe\">\n",
       "  <thead>\n",
       "    <tr style=\"text-align: right;\">\n",
       "      <th></th>\n",
       "      <th>pack_row_id</th>\n",
       "      <th>product_code</th>\n",
       "      <th>per_pack_quantity</th>\n",
       "      <th>pack_price</th>\n",
       "      <th>product_row_id</th>\n",
       "      <th>product_name</th>\n",
       "    </tr>\n",
       "  </thead>\n",
       "  <tbody>\n",
       "    <tr>\n",
       "      <th>0</th>\n",
       "      <td>0</td>\n",
       "      <td>VS5</td>\n",
       "      <td>3</td>\n",
       "      <td>6.99</td>\n",
       "      <td>0</td>\n",
       "      <td>Vegemite Scroll</td>\n",
       "    </tr>\n",
       "    <tr>\n",
       "      <th>1</th>\n",
       "      <td>1</td>\n",
       "      <td>VS5</td>\n",
       "      <td>5</td>\n",
       "      <td>8.99</td>\n",
       "      <td>0</td>\n",
       "      <td>Vegemite Scroll</td>\n",
       "    </tr>\n",
       "    <tr>\n",
       "      <th>2</th>\n",
       "      <td>2</td>\n",
       "      <td>MB11</td>\n",
       "      <td>2</td>\n",
       "      <td>9.95</td>\n",
       "      <td>1</td>\n",
       "      <td>Blueberry Muffin</td>\n",
       "    </tr>\n",
       "    <tr>\n",
       "      <th>3</th>\n",
       "      <td>3</td>\n",
       "      <td>MB11</td>\n",
       "      <td>5</td>\n",
       "      <td>16.95</td>\n",
       "      <td>1</td>\n",
       "      <td>Blueberry Muffin</td>\n",
       "    </tr>\n",
       "    <tr>\n",
       "      <th>4</th>\n",
       "      <td>4</td>\n",
       "      <td>MB11</td>\n",
       "      <td>8</td>\n",
       "      <td>24.95</td>\n",
       "      <td>1</td>\n",
       "      <td>Blueberry Muffin</td>\n",
       "    </tr>\n",
       "    <tr>\n",
       "      <th>5</th>\n",
       "      <td>5</td>\n",
       "      <td>CF</td>\n",
       "      <td>3</td>\n",
       "      <td>5.95</td>\n",
       "      <td>2</td>\n",
       "      <td>Croissant</td>\n",
       "    </tr>\n",
       "    <tr>\n",
       "      <th>6</th>\n",
       "      <td>6</td>\n",
       "      <td>CF</td>\n",
       "      <td>5</td>\n",
       "      <td>9.95</td>\n",
       "      <td>2</td>\n",
       "      <td>Croissant</td>\n",
       "    </tr>\n",
       "    <tr>\n",
       "      <th>7</th>\n",
       "      <td>7</td>\n",
       "      <td>CF</td>\n",
       "      <td>9</td>\n",
       "      <td>16.99</td>\n",
       "      <td>2</td>\n",
       "      <td>Croissant</td>\n",
       "    </tr>\n",
       "  </tbody>\n",
       "</table>\n",
       "</div>"
      ],
      "text/plain": [
       "   pack_row_id product_code  per_pack_quantity  pack_price  product_row_id  \\\n",
       "0            0          VS5                  3        6.99               0   \n",
       "1            1          VS5                  5        8.99               0   \n",
       "2            2         MB11                  2        9.95               1   \n",
       "3            3         MB11                  5       16.95               1   \n",
       "4            4         MB11                  8       24.95               1   \n",
       "5            5           CF                  3        5.95               2   \n",
       "6            6           CF                  5        9.95               2   \n",
       "7            7           CF                  9       16.99               2   \n",
       "\n",
       "       product_name  \n",
       "0   Vegemite Scroll  \n",
       "1   Vegemite Scroll  \n",
       "2  Blueberry Muffin  \n",
       "3  Blueberry Muffin  \n",
       "4  Blueberry Muffin  \n",
       "5         Croissant  \n",
       "6         Croissant  \n",
       "7         Croissant  "
      ]
     },
     "execution_count": 6,
     "metadata": {},
     "output_type": "execute_result"
    }
   ],
   "source": [
    "normalized_data"
   ]
  },
  {
   "cell_type": "markdown",
   "metadata": {},
   "source": [
    "# Strategy\n",
    "For this particular problem I'm going to need:\n",
    "- Abstract the models from the data\n",
    "    - A product model\n",
    "    - A packs model\n",
    "    - A normalized (packs joined to product table)\n",
    "- Create a set of functions which form a pipeline. These functions will be;\n",
    "    1. `initial_clean()` - An initial clean of the input data\n",
    "    2. `get_pack_prices()` - Appends prices and bundles to input data\n",
    "    3. `get_pack_details()` - Appends pack details (divisions, remainders, pack size) recursively\n",
    "    4. `get_pack_subtotal()`- Calculates the input data subtotal\n",
    "    5. `get_packs_total()` - Calculates the total given an array of inputs\n",
    "    6. `pipeline()` - Combines all 5 functions above"
   ]
  },
  {
   "cell_type": "markdown",
   "metadata": {},
   "source": [
    "# Assumptions\n",
    "- Order units will be a positive integer\n",
    "- Remaining items cant be packed, order units would have to be incremented or decremented recursively to address this issue\n",
    "- Multiple Products can be placed in one order\n",
    "- Duplication of products within an order can occur\n",
    "- Pack tiers can be skipped (eg. 13 units of 'CF' should give 1x9pk and 1x3pk, skipping the 5pk)"
   ]
  },
  {
   "cell_type": "markdown",
   "metadata": {},
   "source": [
    "# Code\n",
    "Below I'll create the functions described in the **Strategy** section."
   ]
  },
  {
   "cell_type": "code",
   "execution_count": 7,
   "metadata": {
    "ExecuteTime": {
     "end_time": "2019-06-12T00:08:29.060008Z",
     "start_time": "2019-06-12T00:08:29.054809Z"
    }
   },
   "outputs": [],
   "source": [
    "def initial_clean(dictionary):\n",
    "    \n",
    "    \"\"\"\n",
    "    INPUT: A dictionary in the form {\"product_code\":\"CF\", \"order_units\": 50}\n",
    "    OUTPUT: If the test passes, the same dictionary will be returned\n",
    "    \"\"\"\n",
    "    \n",
    "    # Store unique product codes\n",
    "    unique_codes = normalized_data['product_code'].unique()\n",
    "    \n",
    "    # If product code does not exist or order units is not a positive number continue\n",
    "    try: \n",
    "        if dictionary['product_code'] in unique_codes and dictionary['order_units'] > 0:\n",
    "            return dictionary\n",
    "    except Exception as e:\n",
    "        print(\"Encountered an error {}\".format(e))"
   ]
  },
  {
   "cell_type": "code",
   "execution_count": 8,
   "metadata": {
    "ExecuteTime": {
     "end_time": "2019-06-12T00:08:29.067187Z",
     "start_time": "2019-06-12T00:08:29.062278Z"
    }
   },
   "outputs": [],
   "source": [
    "def get_pack_prices(dictionary, normalized_data):\n",
    "    \n",
    "    \"\"\"\n",
    "    INPUT: The output from initial_clean() function\n",
    "    OUTPUT: The output from initial_clean() function appended with \n",
    "    pack_prices and per_pack_quantity key:value pairs\n",
    "    \"\"\"\n",
    "    \n",
    "    # Create a copy of normalized data given a product_code\n",
    "    data = normalized_data[normalized_data['product_code'] == dictionary['product_code']]\n",
    "    \n",
    "    # Im only concerned with the per_pack_quantity and pack_price columns\n",
    "    subset = data[['per_pack_quantity', 'pack_price']]\n",
    "    \n",
    "    # Sort the dataframe in pack_price descending\n",
    "    subset_sorted = subset.sort_values('pack_price', ascending=False)\n",
    "    \n",
    "    # Store the pack prices and per pack quantities\n",
    "    dictionary['pack_prices'] = list(subset_sorted['pack_price'])\n",
    "    dictionary['per_pack_quantity'] = list(subset_sorted['per_pack_quantity'])\n",
    "    \n",
    "    return dictionary"
   ]
  },
  {
   "cell_type": "code",
   "execution_count": 9,
   "metadata": {
    "ExecuteTime": {
     "end_time": "2019-06-12T00:08:29.082881Z",
     "start_time": "2019-06-12T00:08:29.072704Z"
    }
   },
   "outputs": [],
   "source": [
    "def get_pack_details(dictionary):\n",
    "    \n",
    "    \"\"\"\n",
    "    INPUT: The output from get_pack_prices\n",
    "    OUTPUT: The output from get_pack_prices, appended with 'pack_details' key containing calculations\n",
    "    made in order to derive the optimal number of divisions and remainders where 0 units are remaining\n",
    "    \"\"\"\n",
    "    \n",
    "    per_pack_quantity = dictionary['per_pack_quantity']\n",
    "    \n",
    "    # Set the initial index offset. To be incremented in each while loop\n",
    "    n = 0\n",
    "    \n",
    "    # Onle execute until all pack quantities are exhausted\n",
    "    while(n < len(per_pack_quantity)):\n",
    "        \n",
    "        # Reset pack level storage and per_pack_filtered before running through the for loop\n",
    "        storage = []\n",
    "        per_pack_filtered = per_pack_quantity[n:]\n",
    "        \n",
    "        # Run through per_pack_filtered, taking the index and item each iteration\n",
    "        for index, item in enumerate(per_pack_filtered):\n",
    "            \n",
    "            # Conditionally calculate the divs and remainder based on the position of the index\n",
    "            # It will need to be calculated differently if the index is 0 (start of array)\n",
    "            if index == 0:\n",
    "                divs = dictionary['order_units'] // item\n",
    "                remainder = dictionary['order_units'] % item\n",
    "            else:\n",
    "                # Store the remaining orders by accessing the previous index value for 'remainder' in storage\n",
    "                remaining_orders = storage[index - 1]['remainder']\n",
    "                divs = remaining_orders // item\n",
    "                remainder = remaining_orders % item\n",
    "                \n",
    "                # Initialize next_index, it it exist check ahead one item\n",
    "                # This step is crucial for 'skipping' pack tiers as described in Assumptions section\n",
    "                next_index = index + 1\n",
    "                \n",
    "                # Check if the next_index exists in the pack array\n",
    "                if next_index < len(per_pack_filtered):\n",
    "                    \n",
    "                    # If it exists, check if the next index item is greater than the current remainder\n",
    "                    # and the remainder is also greater than 0.\n",
    "                    if per_pack_filtered[next_index] > remainder and remainder > 0:\n",
    "                        divs = 0\n",
    "                        remainder = remaining_orders\n",
    "            \n",
    "            # Store the calculated diviions, remainder, pack_size and absolute index\n",
    "            # so that later on the subtotals can be calculated\n",
    "            storage.append({'divisions':divs, 'remainder':remainder, 'pack_size': item, 'index': index + n})    \n",
    "        \n",
    "        # Store the remaining units\n",
    "        remainder = storage[-1]['remainder']\n",
    "        \n",
    "        # If the remaining units is 0, we have reached optimal point, return the dictionary and exit function\n",
    "        # If not, reset the while loop and start again from the next index of per_pack_quantities\n",
    "        if remainder == 0:\n",
    "            dictionary['pack_details'] = storage\n",
    "            return dictionary\n",
    "        \n",
    "        n +=1"
   ]
  },
  {
   "cell_type": "code",
   "execution_count": 10,
   "metadata": {
    "ExecuteTime": {
     "end_time": "2019-06-12T00:08:29.092816Z",
     "start_time": "2019-06-12T00:08:29.088681Z"
    }
   },
   "outputs": [],
   "source": [
    "def get_pack_subtotal(dictionary):\n",
    "    \n",
    "    \"\"\"\n",
    "    INPUT: The output of get_pack_details()\n",
    "    OUTPUT:  The output of get_pack_details(), plus the pack level total price\n",
    "    \"\"\"\n",
    "    \n",
    "    dictionary['pack_total'] = 0\n",
    "    prices = dictionary['pack_prices']\n",
    "    \n",
    "    for index, detail in enumerate(dictionary['pack_details']):\n",
    "        price_index = detail['index']\n",
    "        dictionary['pack_total'] += detail['divisions'] * prices[price_index]\n",
    "    \n",
    "    return dictionary"
   ]
  },
  {
   "cell_type": "code",
   "execution_count": 11,
   "metadata": {
    "ExecuteTime": {
     "end_time": "2019-06-12T00:08:29.098295Z",
     "start_time": "2019-06-12T00:08:29.095001Z"
    }
   },
   "outputs": [],
   "source": [
    "def get_packs_total(orders):\n",
    "    \n",
    "    \"\"\"\n",
    "    INPUT: An array of outputs from get_pack_subtotal()\n",
    "    OUTPUT: The total price of a variable number of inputs\n",
    "    \"\"\"\n",
    "    \n",
    "    total = sum([d['pack_total'] for d in orders])\n",
    "    \n",
    "    return total"
   ]
  },
  {
   "cell_type": "code",
   "execution_count": 12,
   "metadata": {
    "ExecuteTime": {
     "end_time": "2019-06-12T00:08:29.105981Z",
     "start_time": "2019-06-12T00:08:29.100990Z"
    }
   },
   "outputs": [],
   "source": [
    "def pipeline(raw_orders):\n",
    "    \n",
    "    \"\"\"\n",
    "    INPUT: A dictionary in the form {\"product_code\":\"CF\", \"order_units\": 50}\n",
    "    OUTPUT: If the test passes, the same dictionary will be returned\n",
    "    \"\"\"\n",
    "    \n",
    "    stage1_data = [initial_clean(order) for order in raw_orders if initial_clean(order) is not None]\n",
    "    \n",
    "    stage2_data = [get_pack_prices(order, normalized_data) for order in stage1_data]\n",
    "\n",
    "    stage3_data = [get_pack_details(order) for order in stage2_data]\n",
    "\n",
    "    stage4_data = [get_pack_subtotal(order) for order in stage3_data]\n",
    "\n",
    "    total = get_packs_total(stage4_data)\n",
    "    \n",
    "    return total"
   ]
  },
  {
   "cell_type": "markdown",
   "metadata": {},
   "source": [
    "# Tests"
   ]
  },
  {
   "cell_type": "markdown",
   "metadata": {},
   "source": [
    "### Test for 10 units of VS5"
   ]
  },
  {
   "cell_type": "code",
   "execution_count": 13,
   "metadata": {
    "ExecuteTime": {
     "end_time": "2019-06-12T00:08:29.119410Z",
     "start_time": "2019-06-12T00:08:29.108810Z"
    }
   },
   "outputs": [
    {
     "name": "stdout",
     "output_type": "stream",
     "text": [
      "17.98\n"
     ]
    }
   ],
   "source": [
    "orders = [{'product_code':'VS5', 'order_units':10}]\n",
    "\n",
    "total = pipeline(raw_orders = orders)\n",
    "\n",
    "print(round(total,2))"
   ]
  },
  {
   "cell_type": "markdown",
   "metadata": {},
   "source": [
    "### Test for 14 units of MB11"
   ]
  },
  {
   "cell_type": "code",
   "execution_count": 14,
   "metadata": {
    "ExecuteTime": {
     "end_time": "2019-06-12T00:08:29.131107Z",
     "start_time": "2019-06-12T00:08:29.122004Z"
    }
   },
   "outputs": [
    {
     "name": "stdout",
     "output_type": "stream",
     "text": [
      "54.8\n"
     ]
    }
   ],
   "source": [
    "orders = [{'product_code':'MB11', 'order_units':14}]\n",
    "\n",
    "total = pipeline(raw_orders = orders)\n",
    "\n",
    "print(round(total, 2))"
   ]
  },
  {
   "cell_type": "markdown",
   "metadata": {},
   "source": [
    "### Test for 13 units of CF"
   ]
  },
  {
   "cell_type": "code",
   "execution_count": 15,
   "metadata": {
    "ExecuteTime": {
     "end_time": "2019-06-12T00:08:29.141099Z",
     "start_time": "2019-06-12T00:08:29.133083Z"
    }
   },
   "outputs": [
    {
     "name": "stdout",
     "output_type": "stream",
     "text": [
      "25.85\n"
     ]
    }
   ],
   "source": [
    "orders = [{'product_code':'CF', 'order_units':13}]\n",
    "\n",
    "total = pipeline(raw_orders = orders)\n",
    "\n",
    "print(round(total, 2))"
   ]
  },
  {
   "cell_type": "markdown",
   "metadata": {},
   "source": [
    "### Test for multiple orders"
   ]
  },
  {
   "cell_type": "code",
   "execution_count": 16,
   "metadata": {
    "ExecuteTime": {
     "end_time": "2019-06-12T00:08:29.159440Z",
     "start_time": "2019-06-12T00:08:29.144245Z"
    }
   },
   "outputs": [
    {
     "name": "stdout",
     "output_type": "stream",
     "text": [
      "116.61\n"
     ]
    }
   ],
   "source": [
    "orders = [{'product_code':'CF', 'order_units': 13}, \n",
    "          {'product_code':'MB11', 'order_units': 14},\n",
    "          {'product_code':'VS5', 'order_units': 20}]\n",
    "\n",
    "total = pipeline(raw_orders = orders)\n",
    "\n",
    "print(round(total, 2))"
   ]
  },
  {
   "cell_type": "markdown",
   "metadata": {},
   "source": [
    "# Scaling/Production\n",
    "- In an ideal situation this code could be encapsulated within a web application using a framework such as Django.\n",
    "- In production recursive calls (**get_pack_details()**) would be very expensive, you could implement a caching mechanism with Redis or Memcached to alleviate load on the CPU dramatically.\n",
    "- The models can be created easily and mapped to a database of choice.\n",
    "- The orders can be cached and confirmed before they are committed to the database\n",
    "- The code itself is highly scalable as it accounts for an unlimited number of inputs\n",
    "- The code is also dynamic in that it can query a database / data structure. i.e. the code will work if we added new items to the database."
   ]
  }
 ],
 "metadata": {
  "kernelspec": {
   "display_name": "Python 3",
   "language": "python",
   "name": "python3"
  },
  "language_info": {
   "codemirror_mode": {
    "name": "ipython",
    "version": 3
   },
   "file_extension": ".py",
   "mimetype": "text/x-python",
   "name": "python",
   "nbconvert_exporter": "python",
   "pygments_lexer": "ipython3",
   "version": "3.6.5"
  },
  "toc": {
   "base_numbering": 1,
   "nav_menu": {},
   "number_sections": true,
   "sideBar": true,
   "skip_h1_title": false,
   "title_cell": "Table of Contents",
   "title_sidebar": "Contents",
   "toc_cell": false,
   "toc_position": {},
   "toc_section_display": true,
   "toc_window_display": false
  },
  "varInspector": {
   "cols": {
    "lenName": 16,
    "lenType": 16,
    "lenVar": 40
   },
   "kernels_config": {
    "python": {
     "delete_cmd_postfix": "",
     "delete_cmd_prefix": "del ",
     "library": "var_list.py",
     "varRefreshCmd": "print(var_dic_list())"
    },
    "r": {
     "delete_cmd_postfix": ") ",
     "delete_cmd_prefix": "rm(",
     "library": "var_list.r",
     "varRefreshCmd": "cat(var_dic_list()) "
    }
   },
   "types_to_exclude": [
    "module",
    "function",
    "builtin_function_or_method",
    "instance",
    "_Feature"
   ],
   "window_display": false
  }
 },
 "nbformat": 4,
 "nbformat_minor": 2
}
